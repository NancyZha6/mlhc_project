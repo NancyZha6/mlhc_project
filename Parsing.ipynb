{
 "cells": [
  {
   "cell_type": "code",
   "execution_count": 1,
   "id": "ad3ce1a6",
   "metadata": {},
   "outputs": [],
   "source": [
    "import pandas as pd"
   ]
  },
  {
   "cell_type": "code",
   "execution_count": null,
   "id": "e1fe133e",
   "metadata": {},
   "outputs": [],
   "source": []
  },
  {
   "cell_type": "code",
   "execution_count": 2,
   "id": "e4579074",
   "metadata": {},
   "outputs": [],
   "source": [
    "language = 'English'\n",
    "df = pd.read_csv(open(f'data/Project/{language}.csv'))"
   ]
  },
  {
   "cell_type": "code",
   "execution_count": 3,
   "id": "7a2957d7",
   "metadata": {
    "scrolled": true
   },
   "outputs": [],
   "source": [
    "ids_unknown = df.Response.str.contains('male/female', case=False, na=False)\n",
    "ids_female = df.Response.str.contains('female|woman', case=False, na=False) & ~ids_unknown\n",
    "ids_male = df.Response.str.contains('male|man', case=False, na=False) & ~ids_female & ~ids_unknown\n",
    "\n",
    "df['Gender'] = 'Unknown'\n",
    "df.loc[ids_female, 'Gender'] = 'Female'\n",
    "df.loc[ids_male, 'Gender'] = 'Male'"
   ]
  },
  {
   "cell_type": "code",
   "execution_count": 4,
   "id": "c35a168b",
   "metadata": {},
   "outputs": [],
   "source": [
    "_ids_asian = df.Response.str.contains('Asian', case=False, na=False)\n",
    "_ids_black = df.Response.str.contains('Black', case=False, na=False)\n",
    "_ids_white = df.Response.str.contains('White', case=False, na=False)\n",
    "_ids_hispanic = df.Response.str.contains('Hispanic', case=False, na=False)\n",
    "\n",
    "ids_asian = _ids_asian & ~_ids_black & ~_ids_white & ~_ids_hispanic\n",
    "ids_black = ~_ids_asian & _ids_black & ~_ids_white & ~_ids_hispanic\n",
    "ids_white = ~_ids_asian & ~_ids_black & _ids_white & ~_ids_hispanic\n",
    "ids_hispanic = ~_ids_asian & ~_ids_black & ~_ids_white & _ids_hispanic\n",
    "\n",
    "df['Race'] = 'Unknown'\n",
    "df.loc[ids_asian, 'Race'] = 'Asian'\n",
    "df.loc[ids_black, 'Race'] = 'Black'\n",
    "df.loc[ids_white, 'Race'] = 'White'\n",
    "df.loc[ids_hispanic, 'Race'] = 'Hispanic'"
   ]
  },
  {
   "cell_type": "code",
   "execution_count": 5,
   "id": "4a18051f",
   "metadata": {},
   "outputs": [],
   "source": [
    "df.to_csv(f'data/Project/{language}.csv', index=False)"
   ]
  },
  {
   "cell_type": "code",
   "execution_count": null,
   "id": "6dd07c9a",
   "metadata": {},
   "outputs": [],
   "source": []
  },
  {
   "cell_type": "code",
   "execution_count": 6,
   "id": "b3b349ff",
   "metadata": {},
   "outputs": [],
   "source": [
    "language = 'Chinese'\n",
    "df = pd.read_csv(open(f'data/Project/{language}.csv'))"
   ]
  },
  {
   "cell_type": "code",
   "execution_count": 7,
   "id": "c329a035",
   "metadata": {},
   "outputs": [],
   "source": [
    "_ids_female = df.Response.str.contains('女', case=False, na=False)\n",
    "_ids_male = df.Response.str.contains('男', case=False, na=False)\n",
    "\n",
    "ids_female = _ids_female & ~ids_male\n",
    "ids_male = ~_ids_female & ids_male\n",
    "\n",
    "df['Gender'] = 'Unknown'\n",
    "df.loc[ids_female, 'Gender'] = 'Female'\n",
    "df.loc[ids_male, 'Gender'] = 'Male'"
   ]
  },
  {
   "cell_type": "code",
   "execution_count": 8,
   "id": "f3541686",
   "metadata": {},
   "outputs": [],
   "source": [
    "_ids_asian = df.Response.str.contains('亚', case=False, na=False)\n",
    "_ids_black = df.Response.str.contains('黑人', case=False, na=False)\n",
    "_ids_white = df.Response.str.contains('白人', case=False, na=False)\n",
    "_ids_hispanic = df.Response.str.contains('西班牙', case=False, na=False)\n",
    "\n",
    "ids_asian = _ids_asian & ~_ids_black & ~_ids_white & ~_ids_hispanic\n",
    "ids_black = ~_ids_asian & _ids_black & ~_ids_white & ~_ids_hispanic\n",
    "ids_white = ~_ids_asian & ~_ids_black & _ids_white & ~_ids_hispanic\n",
    "ids_hispanic = ~_ids_asian & ~_ids_black & ~_ids_white & _ids_hispanic\n",
    "\n",
    "df['Race'] = 'Unknown'\n",
    "df.loc[ids_asian, 'Race'] = 'Asian'\n",
    "df.loc[ids_black, 'Race'] = 'Black'\n",
    "df.loc[ids_white, 'Race'] = 'White'\n",
    "df.loc[ids_hispanic, 'Race'] = 'Hispanic'"
   ]
  },
  {
   "cell_type": "code",
   "execution_count": 9,
   "id": "f93e4d45",
   "metadata": {},
   "outputs": [],
   "source": [
    "df.to_csv(f'data/Project/{language}.csv', index=False)"
   ]
  },
  {
   "cell_type": "code",
   "execution_count": null,
   "id": "131ce31f",
   "metadata": {},
   "outputs": [],
   "source": []
  }
 ],
 "metadata": {
  "kernelspec": {
   "display_name": "Python 3 (ipykernel)",
   "language": "python",
   "name": "python3"
  },
  "language_info": {
   "codemirror_mode": {
    "name": "ipython",
    "version": 3
   },
   "file_extension": ".py",
   "mimetype": "text/x-python",
   "name": "python",
   "nbconvert_exporter": "python",
   "pygments_lexer": "ipython3",
   "version": "3.10.9"
  }
 },
 "nbformat": 4,
 "nbformat_minor": 5
}
